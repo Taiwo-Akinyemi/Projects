{
 "cells": [
  {
   "cell_type": "markdown",
   "id": "a299d3db",
   "metadata": {
    "papermill": {
     "duration": 0.009998,
     "end_time": "2023-12-03T16:31:58.237571",
     "exception": false,
     "start_time": "2023-12-03T16:31:58.227573",
     "status": "completed"
    },
    "tags": []
   },
   "source": [
    "This dataset shows the estimated energy consumption in Megawatts for the company, American Electric Power (AEP). The dataset can be found here: https://www.kaggle.com/datasets/robikscube/hourly-energy-consumption/data?select=AEP_hourly.csv"
   ]
  },
  {
   "cell_type": "markdown",
   "id": "2f0c49a5",
   "metadata": {
    "papermill": {
     "duration": 0.007428,
     "end_time": "2023-12-03T16:31:58.252977",
     "exception": false,
     "start_time": "2023-12-03T16:31:58.245549",
     "status": "completed"
    },
    "tags": []
   },
   "source": [
    "This project will clean process the data for analysis using Pandas. \n"
   ]
  },
  {
   "cell_type": "markdown",
   "id": "2d4a8a65",
   "metadata": {
    "papermill": {
     "duration": 0.00739,
     "end_time": "2023-12-03T16:31:58.268137",
     "exception": false,
     "start_time": "2023-12-03T16:31:58.260747",
     "status": "completed"
    },
    "tags": []
   },
   "source": [
    "STEPS\n",
    "\n",
    " Importing pandas, matplotlip and seaborn to help us to process the data, perform data cleaning and visualise the data. \n"
   ]
  },
  {
   "cell_type": "code",
   "execution_count": 1,
   "id": "0578c21d",
   "metadata": {
    "execution": {
     "iopub.execute_input": "2023-12-03T16:31:58.285744Z",
     "iopub.status.busy": "2023-12-03T16:31:58.285225Z",
     "iopub.status.idle": "2023-12-03T16:32:00.296008Z",
     "shell.execute_reply": "2023-12-03T16:32:00.294657Z"
    },
    "papermill": {
     "duration": 2.023493,
     "end_time": "2023-12-03T16:32:00.299348",
     "exception": false,
     "start_time": "2023-12-03T16:31:58.275855",
     "status": "completed"
    },
    "tags": []
   },
   "outputs": [],
   "source": [
    "import pandas as pd # data processing, CSV file I/O (e.g. pd.read_csv)\n",
    "\n",
    "import matplotlib.pyplot as plt # for visualisation\n",
    "\n",
    "import seaborn as sns # for scatter plot or box plots to visualise any outliers\n",
    "\n"
   ]
  },
  {
   "cell_type": "code",
   "execution_count": 2,
   "id": "a32b3146",
   "metadata": {
    "execution": {
     "iopub.execute_input": "2023-12-03T16:32:00.317053Z",
     "iopub.status.busy": "2023-12-03T16:32:00.316451Z",
     "iopub.status.idle": "2023-12-03T16:32:00.497313Z",
     "shell.execute_reply": "2023-12-03T16:32:00.496216Z"
    },
    "papermill": {
     "duration": 0.193096,
     "end_time": "2023-12-03T16:32:00.500385",
     "exception": false,
     "start_time": "2023-12-03T16:32:00.307289",
     "status": "completed"
    },
    "tags": []
   },
   "outputs": [],
   "source": [
    "#file is in csv format, so this code helps to read the dataset so that the necessary steps can be done\n",
    "\n",
    "df = pd.read_csv(\"/kaggle/input/hourly-energy-consumption/AEP_hourly.csv\")\n",
    "\n",
    "\n",
    "\n"
   ]
  },
  {
   "cell_type": "markdown",
   "id": "89271364",
   "metadata": {
    "papermill": {
     "duration": 0.007362,
     "end_time": "2023-12-03T16:32:00.515646",
     "exception": false,
     "start_time": "2023-12-03T16:32:00.508284",
     "status": "completed"
    },
    "tags": []
   },
   "source": [
    "Showing first five rows of the dataset gives an idea of what the dataset looks like. "
   ]
  },
  {
   "cell_type": "code",
   "execution_count": 3,
   "id": "1adbdcb5",
   "metadata": {
    "execution": {
     "iopub.execute_input": "2023-12-03T16:32:00.533083Z",
     "iopub.status.busy": "2023-12-03T16:32:00.532642Z",
     "iopub.status.idle": "2023-12-03T16:32:00.559415Z",
     "shell.execute_reply": "2023-12-03T16:32:00.558068Z"
    },
    "jupyter": {
     "source_hidden": true
    },
    "papermill": {
     "duration": 0.038934,
     "end_time": "2023-12-03T16:32:00.562340",
     "exception": false,
     "start_time": "2023-12-03T16:32:00.523406",
     "status": "completed"
    },
    "tags": []
   },
   "outputs": [
    {
     "data": {
      "text/html": [
       "<div>\n",
       "<style scoped>\n",
       "    .dataframe tbody tr th:only-of-type {\n",
       "        vertical-align: middle;\n",
       "    }\n",
       "\n",
       "    .dataframe tbody tr th {\n",
       "        vertical-align: top;\n",
       "    }\n",
       "\n",
       "    .dataframe thead th {\n",
       "        text-align: right;\n",
       "    }\n",
       "</style>\n",
       "<table border=\"1\" class=\"dataframe\">\n",
       "  <thead>\n",
       "    <tr style=\"text-align: right;\">\n",
       "      <th></th>\n",
       "      <th>Datetime</th>\n",
       "      <th>AEP_MW</th>\n",
       "    </tr>\n",
       "  </thead>\n",
       "  <tbody>\n",
       "    <tr>\n",
       "      <th>0</th>\n",
       "      <td>2004-12-31 01:00:00</td>\n",
       "      <td>13478.0</td>\n",
       "    </tr>\n",
       "    <tr>\n",
       "      <th>1</th>\n",
       "      <td>2004-12-31 02:00:00</td>\n",
       "      <td>12865.0</td>\n",
       "    </tr>\n",
       "    <tr>\n",
       "      <th>2</th>\n",
       "      <td>2004-12-31 03:00:00</td>\n",
       "      <td>12577.0</td>\n",
       "    </tr>\n",
       "    <tr>\n",
       "      <th>3</th>\n",
       "      <td>2004-12-31 04:00:00</td>\n",
       "      <td>12517.0</td>\n",
       "    </tr>\n",
       "    <tr>\n",
       "      <th>4</th>\n",
       "      <td>2004-12-31 05:00:00</td>\n",
       "      <td>12670.0</td>\n",
       "    </tr>\n",
       "  </tbody>\n",
       "</table>\n",
       "</div>"
      ],
      "text/plain": [
       "              Datetime   AEP_MW\n",
       "0  2004-12-31 01:00:00  13478.0\n",
       "1  2004-12-31 02:00:00  12865.0\n",
       "2  2004-12-31 03:00:00  12577.0\n",
       "3  2004-12-31 04:00:00  12517.0\n",
       "4  2004-12-31 05:00:00  12670.0"
      ]
     },
     "execution_count": 3,
     "metadata": {},
     "output_type": "execute_result"
    }
   ],
   "source": [
    "df.head()\n"
   ]
  },
  {
   "cell_type": "markdown",
   "id": "1a41563e",
   "metadata": {
    "papermill": {
     "duration": 0.008176,
     "end_time": "2023-12-03T16:32:00.578546",
     "exception": false,
     "start_time": "2023-12-03T16:32:00.570370",
     "status": "completed"
    },
    "tags": []
   },
   "source": [
    "Showing the last five rows of the dataset can also show us the end of the data set"
   ]
  },
  {
   "cell_type": "code",
   "execution_count": 4,
   "id": "6dcd0871",
   "metadata": {
    "execution": {
     "iopub.execute_input": "2023-12-03T16:32:00.597343Z",
     "iopub.status.busy": "2023-12-03T16:32:00.596638Z",
     "iopub.status.idle": "2023-12-03T16:32:00.609553Z",
     "shell.execute_reply": "2023-12-03T16:32:00.608255Z"
    },
    "papermill": {
     "duration": 0.025644,
     "end_time": "2023-12-03T16:32:00.612689",
     "exception": false,
     "start_time": "2023-12-03T16:32:00.587045",
     "status": "completed"
    },
    "tags": []
   },
   "outputs": [
    {
     "data": {
      "text/html": [
       "<div>\n",
       "<style scoped>\n",
       "    .dataframe tbody tr th:only-of-type {\n",
       "        vertical-align: middle;\n",
       "    }\n",
       "\n",
       "    .dataframe tbody tr th {\n",
       "        vertical-align: top;\n",
       "    }\n",
       "\n",
       "    .dataframe thead th {\n",
       "        text-align: right;\n",
       "    }\n",
       "</style>\n",
       "<table border=\"1\" class=\"dataframe\">\n",
       "  <thead>\n",
       "    <tr style=\"text-align: right;\">\n",
       "      <th></th>\n",
       "      <th>Datetime</th>\n",
       "      <th>AEP_MW</th>\n",
       "    </tr>\n",
       "  </thead>\n",
       "  <tbody>\n",
       "    <tr>\n",
       "      <th>121268</th>\n",
       "      <td>2018-01-01 20:00:00</td>\n",
       "      <td>21089.0</td>\n",
       "    </tr>\n",
       "    <tr>\n",
       "      <th>121269</th>\n",
       "      <td>2018-01-01 21:00:00</td>\n",
       "      <td>20999.0</td>\n",
       "    </tr>\n",
       "    <tr>\n",
       "      <th>121270</th>\n",
       "      <td>2018-01-01 22:00:00</td>\n",
       "      <td>20820.0</td>\n",
       "    </tr>\n",
       "    <tr>\n",
       "      <th>121271</th>\n",
       "      <td>2018-01-01 23:00:00</td>\n",
       "      <td>20415.0</td>\n",
       "    </tr>\n",
       "    <tr>\n",
       "      <th>121272</th>\n",
       "      <td>2018-01-02 00:00:00</td>\n",
       "      <td>19993.0</td>\n",
       "    </tr>\n",
       "  </tbody>\n",
       "</table>\n",
       "</div>"
      ],
      "text/plain": [
       "                   Datetime   AEP_MW\n",
       "121268  2018-01-01 20:00:00  21089.0\n",
       "121269  2018-01-01 21:00:00  20999.0\n",
       "121270  2018-01-01 22:00:00  20820.0\n",
       "121271  2018-01-01 23:00:00  20415.0\n",
       "121272  2018-01-02 00:00:00  19993.0"
      ]
     },
     "execution_count": 4,
     "metadata": {},
     "output_type": "execute_result"
    }
   ],
   "source": [
    "df.tail()"
   ]
  },
  {
   "cell_type": "markdown",
   "id": "a38a4edc",
   "metadata": {
    "papermill": {
     "duration": 0.009198,
     "end_time": "2023-12-03T16:32:00.631078",
     "exception": false,
     "start_time": "2023-12-03T16:32:00.621880",
     "status": "completed"
    },
    "tags": []
   },
   "source": [
    "To check for and handle missing and duplicate values\n"
   ]
  },
  {
   "cell_type": "code",
   "execution_count": 5,
   "id": "90132b7a",
   "metadata": {
    "execution": {
     "iopub.execute_input": "2023-12-03T16:32:00.650150Z",
     "iopub.status.busy": "2023-12-03T16:32:00.649739Z",
     "iopub.status.idle": "2023-12-03T16:32:00.746004Z",
     "shell.execute_reply": "2023-12-03T16:32:00.744783Z"
    },
    "papermill": {
     "duration": 0.109153,
     "end_time": "2023-12-03T16:32:00.748941",
     "exception": false,
     "start_time": "2023-12-03T16:32:00.639788",
     "status": "completed"
    },
    "tags": []
   },
   "outputs": [],
   "source": [
    "missing_values = df.isnull().sum\n",
    "\n",
    "missing_values   # if there are missing values in the dataset, this code returns a count\n",
    "\n",
    "df.dropna(inplace = True)\n",
    "df.drop_duplicates(inplace = True)    \n",
    "\n"
   ]
  },
  {
   "cell_type": "markdown",
   "id": "8ce08eaa",
   "metadata": {
    "papermill": {
     "duration": 0.008149,
     "end_time": "2023-12-03T16:32:00.765734",
     "exception": false,
     "start_time": "2023-12-03T16:32:00.757585",
     "status": "completed"
    },
    "tags": []
   },
   "source": [
    "The datatype of the datetime column is \"object\"  so the \"Datetime\" column needs to be change to a actual Datetime format that allows for calculations to be performed."
   ]
  },
  {
   "cell_type": "code",
   "execution_count": 6,
   "id": "9a112717",
   "metadata": {
    "execution": {
     "iopub.execute_input": "2023-12-03T16:32:00.785817Z",
     "iopub.status.busy": "2023-12-03T16:32:00.785068Z",
     "iopub.status.idle": "2023-12-03T16:32:00.793331Z",
     "shell.execute_reply": "2023-12-03T16:32:00.792250Z"
    },
    "papermill": {
     "duration": 0.021506,
     "end_time": "2023-12-03T16:32:00.795885",
     "exception": false,
     "start_time": "2023-12-03T16:32:00.774379",
     "status": "completed"
    },
    "tags": []
   },
   "outputs": [
    {
     "data": {
      "text/plain": [
       "Datetime     object\n",
       "AEP_MW      float64\n",
       "dtype: object"
      ]
     },
     "execution_count": 6,
     "metadata": {},
     "output_type": "execute_result"
    }
   ],
   "source": [
    "df.dtypes\n"
   ]
  },
  {
   "cell_type": "code",
   "execution_count": 7,
   "id": "7ca47032",
   "metadata": {
    "execution": {
     "iopub.execute_input": "2023-12-03T16:32:00.816235Z",
     "iopub.status.busy": "2023-12-03T16:32:00.815802Z",
     "iopub.status.idle": "2023-12-03T16:32:00.884495Z",
     "shell.execute_reply": "2023-12-03T16:32:00.883260Z"
    },
    "papermill": {
     "duration": 0.08212,
     "end_time": "2023-12-03T16:32:00.887268",
     "exception": false,
     "start_time": "2023-12-03T16:32:00.805148",
     "status": "completed"
    },
    "tags": []
   },
   "outputs": [
    {
     "data": {
      "text/plain": [
       "Datetime    datetime64[ns]\n",
       "AEP_MW             float64\n",
       "dtype: object"
      ]
     },
     "execution_count": 7,
     "metadata": {},
     "output_type": "execute_result"
    }
   ],
   "source": [
    "df[\"Datetime\"] = pd.to_datetime(df[\"Datetime\"])\n",
    "\n",
    "df.dtypes   # here the datatype has been changed to datetime format"
   ]
  },
  {
   "cell_type": "markdown",
   "id": "3ba8b6d0",
   "metadata": {
    "execution": {
     "iopub.execute_input": "2023-11-30T01:48:53.813337Z",
     "iopub.status.busy": "2023-11-30T01:48:53.811668Z",
     "iopub.status.idle": "2023-11-30T01:48:53.822049Z",
     "shell.execute_reply": "2023-11-30T01:48:53.819797Z",
     "shell.execute_reply.started": "2023-11-30T01:48:53.813283Z"
    },
    "papermill": {
     "duration": 0.008136,
     "end_time": "2023-12-03T16:32:00.904396",
     "exception": false,
     "start_time": "2023-12-03T16:32:00.896260",
     "status": "completed"
    },
    "tags": []
   },
   "source": [
    "The datetime column can be further split into year, momth, day and time column to perform more insighful statistics on each column\n",
    "\n",
    "e.g To know which time of the day or month of the year that people consume more electricity. "
   ]
  },
  {
   "cell_type": "code",
   "execution_count": 8,
   "id": "f84bbdaf",
   "metadata": {
    "execution": {
     "iopub.execute_input": "2023-12-03T16:32:00.923112Z",
     "iopub.status.busy": "2023-12-03T16:32:00.922717Z",
     "iopub.status.idle": "2023-12-03T16:32:01.073607Z",
     "shell.execute_reply": "2023-12-03T16:32:01.072266Z"
    },
    "papermill": {
     "duration": 0.164015,
     "end_time": "2023-12-03T16:32:01.076895",
     "exception": false,
     "start_time": "2023-12-03T16:32:00.912880",
     "status": "completed"
    },
    "tags": []
   },
   "outputs": [
    {
     "data": {
      "text/html": [
       "<div>\n",
       "<style scoped>\n",
       "    .dataframe tbody tr th:only-of-type {\n",
       "        vertical-align: middle;\n",
       "    }\n",
       "\n",
       "    .dataframe tbody tr th {\n",
       "        vertical-align: top;\n",
       "    }\n",
       "\n",
       "    .dataframe thead th {\n",
       "        text-align: right;\n",
       "    }\n",
       "</style>\n",
       "<table border=\"1\" class=\"dataframe\">\n",
       "  <thead>\n",
       "    <tr style=\"text-align: right;\">\n",
       "      <th></th>\n",
       "      <th>Datetime</th>\n",
       "      <th>AEP_MW</th>\n",
       "      <th>Year</th>\n",
       "      <th>Month</th>\n",
       "      <th>Day</th>\n",
       "      <th>Time</th>\n",
       "    </tr>\n",
       "  </thead>\n",
       "  <tbody>\n",
       "    <tr>\n",
       "      <th>0</th>\n",
       "      <td>2004-12-31 01:00:00</td>\n",
       "      <td>13478.0</td>\n",
       "      <td>2004</td>\n",
       "      <td>12</td>\n",
       "      <td>31</td>\n",
       "      <td>01:00:00</td>\n",
       "    </tr>\n",
       "    <tr>\n",
       "      <th>1</th>\n",
       "      <td>2004-12-31 02:00:00</td>\n",
       "      <td>12865.0</td>\n",
       "      <td>2004</td>\n",
       "      <td>12</td>\n",
       "      <td>31</td>\n",
       "      <td>02:00:00</td>\n",
       "    </tr>\n",
       "    <tr>\n",
       "      <th>2</th>\n",
       "      <td>2004-12-31 03:00:00</td>\n",
       "      <td>12577.0</td>\n",
       "      <td>2004</td>\n",
       "      <td>12</td>\n",
       "      <td>31</td>\n",
       "      <td>03:00:00</td>\n",
       "    </tr>\n",
       "    <tr>\n",
       "      <th>3</th>\n",
       "      <td>2004-12-31 04:00:00</td>\n",
       "      <td>12517.0</td>\n",
       "      <td>2004</td>\n",
       "      <td>12</td>\n",
       "      <td>31</td>\n",
       "      <td>04:00:00</td>\n",
       "    </tr>\n",
       "    <tr>\n",
       "      <th>4</th>\n",
       "      <td>2004-12-31 05:00:00</td>\n",
       "      <td>12670.0</td>\n",
       "      <td>2004</td>\n",
       "      <td>12</td>\n",
       "      <td>31</td>\n",
       "      <td>05:00:00</td>\n",
       "    </tr>\n",
       "  </tbody>\n",
       "</table>\n",
       "</div>"
      ],
      "text/plain": [
       "             Datetime   AEP_MW  Year  Month  Day      Time\n",
       "0 2004-12-31 01:00:00  13478.0  2004     12   31  01:00:00\n",
       "1 2004-12-31 02:00:00  12865.0  2004     12   31  02:00:00\n",
       "2 2004-12-31 03:00:00  12577.0  2004     12   31  03:00:00\n",
       "3 2004-12-31 04:00:00  12517.0  2004     12   31  04:00:00\n",
       "4 2004-12-31 05:00:00  12670.0  2004     12   31  05:00:00"
      ]
     },
     "execution_count": 8,
     "metadata": {},
     "output_type": "execute_result"
    }
   ],
   "source": [
    "df[\"Year\"] = df[\"Datetime\"].dt.year\n",
    "df[\"Month\"] =df[\"Datetime\"].dt.month\n",
    "df[\"Day\"] = df[\"Datetime\"].dt.day\n",
    "df[\"Time\"] = df[\"Datetime\"].dt.time\n",
    "df.head()"
   ]
  },
  {
   "cell_type": "code",
   "execution_count": 9,
   "id": "0d6d96e1",
   "metadata": {
    "execution": {
     "iopub.execute_input": "2023-12-03T16:32:01.096463Z",
     "iopub.status.busy": "2023-12-03T16:32:01.096039Z",
     "iopub.status.idle": "2023-12-03T16:32:01.127650Z",
     "shell.execute_reply": "2023-12-03T16:32:01.126448Z"
    },
    "papermill": {
     "duration": 0.044812,
     "end_time": "2023-12-03T16:32:01.130682",
     "exception": false,
     "start_time": "2023-12-03T16:32:01.085870",
     "status": "completed"
    },
    "tags": []
   },
   "outputs": [
    {
     "data": {
      "text/html": [
       "<div>\n",
       "<style scoped>\n",
       "    .dataframe tbody tr th:only-of-type {\n",
       "        vertical-align: middle;\n",
       "    }\n",
       "\n",
       "    .dataframe tbody tr th {\n",
       "        vertical-align: top;\n",
       "    }\n",
       "\n",
       "    .dataframe thead th {\n",
       "        text-align: right;\n",
       "    }\n",
       "</style>\n",
       "<table border=\"1\" class=\"dataframe\">\n",
       "  <thead>\n",
       "    <tr style=\"text-align: right;\">\n",
       "      <th></th>\n",
       "      <th>Year</th>\n",
       "      <th>Month</th>\n",
       "      <th>Day</th>\n",
       "      <th>Time</th>\n",
       "      <th>Datetime</th>\n",
       "      <th>Energy Consumed</th>\n",
       "    </tr>\n",
       "  </thead>\n",
       "  <tbody>\n",
       "    <tr>\n",
       "      <th>0</th>\n",
       "      <td>2004</td>\n",
       "      <td>12</td>\n",
       "      <td>31</td>\n",
       "      <td>01:00:00</td>\n",
       "      <td>2004-12-31 01:00:00</td>\n",
       "      <td>13478.0</td>\n",
       "    </tr>\n",
       "    <tr>\n",
       "      <th>1</th>\n",
       "      <td>2004</td>\n",
       "      <td>12</td>\n",
       "      <td>31</td>\n",
       "      <td>02:00:00</td>\n",
       "      <td>2004-12-31 02:00:00</td>\n",
       "      <td>12865.0</td>\n",
       "    </tr>\n",
       "    <tr>\n",
       "      <th>2</th>\n",
       "      <td>2004</td>\n",
       "      <td>12</td>\n",
       "      <td>31</td>\n",
       "      <td>03:00:00</td>\n",
       "      <td>2004-12-31 03:00:00</td>\n",
       "      <td>12577.0</td>\n",
       "    </tr>\n",
       "    <tr>\n",
       "      <th>3</th>\n",
       "      <td>2004</td>\n",
       "      <td>12</td>\n",
       "      <td>31</td>\n",
       "      <td>04:00:00</td>\n",
       "      <td>2004-12-31 04:00:00</td>\n",
       "      <td>12517.0</td>\n",
       "    </tr>\n",
       "    <tr>\n",
       "      <th>4</th>\n",
       "      <td>2004</td>\n",
       "      <td>12</td>\n",
       "      <td>31</td>\n",
       "      <td>05:00:00</td>\n",
       "      <td>2004-12-31 05:00:00</td>\n",
       "      <td>12670.0</td>\n",
       "    </tr>\n",
       "  </tbody>\n",
       "</table>\n",
       "</div>"
      ],
      "text/plain": [
       "   Year  Month  Day      Time            Datetime  Energy Consumed\n",
       "0  2004     12   31  01:00:00 2004-12-31 01:00:00          13478.0\n",
       "1  2004     12   31  02:00:00 2004-12-31 02:00:00          12865.0\n",
       "2  2004     12   31  03:00:00 2004-12-31 03:00:00          12577.0\n",
       "3  2004     12   31  04:00:00 2004-12-31 04:00:00          12517.0\n",
       "4  2004     12   31  05:00:00 2004-12-31 05:00:00          12670.0"
      ]
     },
     "execution_count": 9,
     "metadata": {},
     "output_type": "execute_result"
    }
   ],
   "source": [
    "df_new = df.rename(columns ={\"AEP_MW\":\"Energy Consumed\"}, inplace = True) #renaming the AEP_MW column\n",
    "\n",
    "df.head()\n",
    "\n",
    "\n",
    "ordered_columns = [\"Year\",\"Month\",\"Day\",\"Time\",\"Datetime\",\"Energy Consumed\"]    #changing the order of the dataset\n",
    "\n",
    "AEP_dataset = df[ordered_columns]     #changed the name of the dataset\n",
    "\n",
    "AEP_dataset.head()"
   ]
  },
  {
   "cell_type": "markdown",
   "id": "03212dc5",
   "metadata": {
    "papermill": {
     "duration": 0.008933,
     "end_time": "2023-12-03T16:32:01.149773",
     "exception": false,
     "start_time": "2023-12-03T16:32:01.140840",
     "status": "completed"
    },
    "tags": []
   },
   "source": [
    "The dataset has been processed and is now ready for analysis,but before exporting to Tableau for Visualisation, the descpritive statistics will be viewed and a histogram plotted to reveal any outliers. \n",
    "\n",
    "Futhermore, a scatterplot that shows the relationship between the numeric variables which is hourly energy consumption and year will be visualised.  \n"
   ]
  },
  {
   "cell_type": "code",
   "execution_count": 10,
   "id": "9c0b5fb0",
   "metadata": {
    "execution": {
     "iopub.execute_input": "2023-12-03T16:32:01.171673Z",
     "iopub.status.busy": "2023-12-03T16:32:01.170920Z",
     "iopub.status.idle": "2023-12-03T16:32:01.239540Z",
     "shell.execute_reply": "2023-12-03T16:32:01.238618Z"
    },
    "papermill": {
     "duration": 0.082232,
     "end_time": "2023-12-03T16:32:01.242126",
     "exception": false,
     "start_time": "2023-12-03T16:32:01.159894",
     "status": "completed"
    },
    "tags": []
   },
   "outputs": [
    {
     "data": {
      "text/html": [
       "<div>\n",
       "<style scoped>\n",
       "    .dataframe tbody tr th:only-of-type {\n",
       "        vertical-align: middle;\n",
       "    }\n",
       "\n",
       "    .dataframe tbody tr th {\n",
       "        vertical-align: top;\n",
       "    }\n",
       "\n",
       "    .dataframe thead th {\n",
       "        text-align: right;\n",
       "    }\n",
       "</style>\n",
       "<table border=\"1\" class=\"dataframe\">\n",
       "  <thead>\n",
       "    <tr style=\"text-align: right;\">\n",
       "      <th></th>\n",
       "      <th>Year</th>\n",
       "      <th>Month</th>\n",
       "      <th>Day</th>\n",
       "      <th>Datetime</th>\n",
       "      <th>Energy Consumed</th>\n",
       "    </tr>\n",
       "  </thead>\n",
       "  <tbody>\n",
       "    <tr>\n",
       "      <th>count</th>\n",
       "      <td>121273.000000</td>\n",
       "      <td>121273.000000</td>\n",
       "      <td>121273.000000</td>\n",
       "      <td>121273</td>\n",
       "      <td>121273.000000</td>\n",
       "    </tr>\n",
       "    <tr>\n",
       "      <th>mean</th>\n",
       "      <td>2011.169988</td>\n",
       "      <td>6.500309</td>\n",
       "      <td>15.723220</td>\n",
       "      <td>2011-09-02 03:17:01.553025024</td>\n",
       "      <td>15499.513717</td>\n",
       "    </tr>\n",
       "    <tr>\n",
       "      <th>min</th>\n",
       "      <td>2004.000000</td>\n",
       "      <td>1.000000</td>\n",
       "      <td>1.000000</td>\n",
       "      <td>2004-10-01 01:00:00</td>\n",
       "      <td>9581.000000</td>\n",
       "    </tr>\n",
       "    <tr>\n",
       "      <th>25%</th>\n",
       "      <td>2008.000000</td>\n",
       "      <td>4.000000</td>\n",
       "      <td>8.000000</td>\n",
       "      <td>2008-03-17 15:00:00</td>\n",
       "      <td>13630.000000</td>\n",
       "    </tr>\n",
       "    <tr>\n",
       "      <th>50%</th>\n",
       "      <td>2011.000000</td>\n",
       "      <td>6.000000</td>\n",
       "      <td>16.000000</td>\n",
       "      <td>2011-09-02 04:00:00</td>\n",
       "      <td>15310.000000</td>\n",
       "    </tr>\n",
       "    <tr>\n",
       "      <th>75%</th>\n",
       "      <td>2015.000000</td>\n",
       "      <td>10.000000</td>\n",
       "      <td>23.000000</td>\n",
       "      <td>2015-02-16 17:00:00</td>\n",
       "      <td>17200.000000</td>\n",
       "    </tr>\n",
       "    <tr>\n",
       "      <th>max</th>\n",
       "      <td>2018.000000</td>\n",
       "      <td>12.000000</td>\n",
       "      <td>31.000000</td>\n",
       "      <td>2018-08-03 00:00:00</td>\n",
       "      <td>25695.000000</td>\n",
       "    </tr>\n",
       "    <tr>\n",
       "      <th>std</th>\n",
       "      <td>4.011177</td>\n",
       "      <td>3.461454</td>\n",
       "      <td>8.802246</td>\n",
       "      <td>NaN</td>\n",
       "      <td>2591.399065</td>\n",
       "    </tr>\n",
       "  </tbody>\n",
       "</table>\n",
       "</div>"
      ],
      "text/plain": [
       "                Year          Month            Day  \\\n",
       "count  121273.000000  121273.000000  121273.000000   \n",
       "mean     2011.169988       6.500309      15.723220   \n",
       "min      2004.000000       1.000000       1.000000   \n",
       "25%      2008.000000       4.000000       8.000000   \n",
       "50%      2011.000000       6.000000      16.000000   \n",
       "75%      2015.000000      10.000000      23.000000   \n",
       "max      2018.000000      12.000000      31.000000   \n",
       "std         4.011177       3.461454       8.802246   \n",
       "\n",
       "                            Datetime  Energy Consumed  \n",
       "count                         121273    121273.000000  \n",
       "mean   2011-09-02 03:17:01.553025024     15499.513717  \n",
       "min              2004-10-01 01:00:00      9581.000000  \n",
       "25%              2008-03-17 15:00:00     13630.000000  \n",
       "50%              2011-09-02 04:00:00     15310.000000  \n",
       "75%              2015-02-16 17:00:00     17200.000000  \n",
       "max              2018-08-03 00:00:00     25695.000000  \n",
       "std                              NaN      2591.399065  "
      ]
     },
     "execution_count": 10,
     "metadata": {},
     "output_type": "execute_result"
    }
   ],
   "source": [
    "AEP_dataset.describe()"
   ]
  },
  {
   "cell_type": "markdown",
   "id": "2add46f3",
   "metadata": {
    "papermill": {
     "duration": 0.009212,
     "end_time": "2023-12-03T16:32:01.260906",
     "exception": false,
     "start_time": "2023-12-03T16:32:01.251694",
     "status": "completed"
    },
    "tags": []
   },
   "source": [
    "This shows the summary statistics of the dataset highlighting the mean (15499.5) and middle values (15310)  as well as the standard deviation (2591.4) and the minimum (9581) and maximum (25695) energy consumption. "
   ]
  },
  {
   "cell_type": "code",
   "execution_count": 11,
   "id": "7645f92e",
   "metadata": {
    "execution": {
     "iopub.execute_input": "2023-12-03T16:32:01.282405Z",
     "iopub.status.busy": "2023-12-03T16:32:01.281718Z",
     "iopub.status.idle": "2023-12-03T16:32:01.798646Z",
     "shell.execute_reply": "2023-12-03T16:32:01.797428Z"
    },
    "papermill": {
     "duration": 0.53113,
     "end_time": "2023-12-03T16:32:01.801882",
     "exception": false,
     "start_time": "2023-12-03T16:32:01.270752",
     "status": "completed"
    },
    "tags": []
   },
   "outputs": [
    {
     "data": {
      "image/png": "[encoded data removed]",
      "text/plain": [
       "<Figure size 640x480 with 1 Axes>"
      ]
     },
     "metadata": {},
     "output_type": "display_data"
    }
   ],
   "source": [
    "AEP_dataset['Energy Consumed'].hist(bins = 15)\n",
    "plt.title(\"AEP Energy Consumption Distibution\")\n",
    "plt.xlabel(\"Energy Consumption\")\n",
    "plt.ylabel(\"Frequency\")\n",
    "plt.grid(False)                      # this line can be commented out to show the gridlines\n",
    "\n",
    "plt.show()\n"
   ]
  },
  {
   "cell_type": "markdown",
   "id": "387c9b8f",
   "metadata": {
    "papermill": {
     "duration": 0.009941,
     "end_time": "2023-12-03T16:32:01.822415",
     "exception": false,
     "start_time": "2023-12-03T16:32:01.812474",
     "status": "completed"
    },
    "tags": []
   },
   "source": [
    "The histogram shows a positive skewness as the mass of the distribution is concentrated to the left. Most of the distribution of the data lies below the mean energy consumption of 15499.513717 - more people use less than the average consumption of energy. \n",
    "While there are a few 'extreme'values on the right end of the histogram, it is absolutely possible that the numbers are valid, since there is no upperlimit as to the amount of energy that can be consumed. "
   ]
  },
  {
   "cell_type": "code",
   "execution_count": 12,
   "id": "b4e490ce",
   "metadata": {
    "execution": {
     "iopub.execute_input": "2023-12-03T16:32:01.847581Z",
     "iopub.status.busy": "2023-12-03T16:32:01.847079Z",
     "iopub.status.idle": "2023-12-03T16:32:05.889932Z",
     "shell.execute_reply": "2023-12-03T16:32:05.888588Z"
    },
    "papermill": {
     "duration": 4.058389,
     "end_time": "2023-12-03T16:32:05.893401",
     "exception": false,
     "start_time": "2023-12-03T16:32:01.835012",
     "status": "completed"
    },
    "tags": []
   },
   "outputs": [
    {
     "data": {
      "image/png": "[encoded data removed]",
      "text/plain": [
       "<Figure size 1500x800 with 1 Axes>"
      ]
     },
     "metadata": {},
     "output_type": "display_data"
    }
   ],
   "source": [
    "color_pal = sns.color_palette()\n",
    "AEP_dataset.plot(style='.', figsize=(15, 8), color=color_pal[0], title='AEP Energy Consumtion in MW')\n",
    "plt.ylabel('year')\n",
    "plt.xlabel('Energy')\n",
    "plt.grid()\n",
    "plt.show()"
   ]
  },
  {
   "cell_type": "markdown",
   "id": "37d304d5",
   "metadata": {
    "papermill": {
     "duration": 0.011846,
     "end_time": "2023-12-03T16:32:05.917345",
     "exception": false,
     "start_time": "2023-12-03T16:32:05.905499",
     "status": "completed"
    },
    "tags": []
   },
   "source": [
    "A view of the hourly energy consumption can help to provide insights into the trends and variations of energy usage over time. This can also be useful for predictive analysis as this visualisation showcases the current data before splitting it into the training and test data.\n",
    "\n",
    "\n",
    "Future steps will include :\n",
    "1. splitting the data for training and testing \n",
    "2. feature creation \n",
    "3. showing the feature and target relationship\n",
    "4. creating a model that predicts energy consumption."
   ]
  },
  {
   "cell_type": "code",
   "execution_count": 13,
   "id": "9e710868",
   "metadata": {
    "execution": {
     "iopub.execute_input": "2023-12-03T16:32:05.943011Z",
     "iopub.status.busy": "2023-12-03T16:32:05.942586Z",
     "iopub.status.idle": "2023-12-03T16:32:06.993750Z",
     "shell.execute_reply": "2023-12-03T16:32:06.992760Z"
    },
    "papermill": {
     "duration": 1.067111,
     "end_time": "2023-12-03T16:32:06.996452",
     "exception": false,
     "start_time": "2023-12-03T16:32:05.929341",
     "status": "completed"
    },
    "tags": []
   },
   "outputs": [],
   "source": [
    "#saving the file to csv format so it can be exported\n",
    "\n",
    "AEP_dataset.to_csv(\"AEP_dataset.csv\", index = False)"
   ]
  }
 ],
 "metadata": {
  "kaggle": {
   "accelerator": "none",
   "dataSources": [
    {
     "datasetId": 48149,
     "sourceId": 87794,
     "sourceType": "datasetVersion"
    }
   ],
   "dockerImageVersionId": 30587,
   "isGpuEnabled": false,
   "isInternetEnabled": false,
   "language": "python",
   "sourceType": "notebook"
  },
  "kernelspec": {
   "display_name": "Python 3",
   "language": "python",
   "name": "python3"
  },
  "language_info": {
   "codemirror_mode": {
    "name": "ipython",
    "version": 3
   },
   "file_extension": ".py",
   "mimetype": "text/x-python",
   "name": "python",
   "nbconvert_exporter": "python",
   "pygments_lexer": "ipython3",
   "version": "3.10.12"
  },
  "papermill": {
   "default_parameters": {},
   "duration": 13.239116,
   "end_time": "2023-12-03T16:32:07.730813",
   "environment_variables": {},
   "exception": null,
   "input_path": "__notebook__.ipynb",
   "output_path": "__notebook__.ipynb",
   "parameters": {},
   "start_time": "2023-12-03T16:31:54.491697",
   "version": "2.4.0"
  }
 },
 "nbformat": 4,
 "nbformat_minor": 5
}
